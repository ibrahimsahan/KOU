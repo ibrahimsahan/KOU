{
  "nbformat": 4,
  "nbformat_minor": 0,
  "metadata": {
    "colab": {
      "provenance": [],
      "authorship_tag": "ABX9TyMdSTUtuNLrI7rMVLVHgKRx",
      "include_colab_link": true
    },
    "kernelspec": {
      "name": "python3",
      "display_name": "Python 3"
    },
    "language_info": {
      "name": "python"
    }
  },
  "cells": [
    {
      "cell_type": "markdown",
      "metadata": {
        "id": "view-in-github",
        "colab_type": "text"
      },
      "source": [
        "<a href=\"https://colab.research.google.com/github/ibrahimsahan/KOU/blob/main/Prob3.ipynb\" target=\"_parent\"><img src=\"https://colab.research.google.com/assets/colab-badge.svg\" alt=\"Open In Colab\"/></a>"
      ]
    },
    {
      "cell_type": "markdown",
      "source": [
        "# Koşullu Olasılık Soruları\n",
        "**Soru 1:**\n",
        "\n",
        "6 erkek ve 6 kız öğrenciden oluşan 12 kişilik bir sınıfta resmi tören için görev verilecek öğrenciler seçilecektir. İlk 2 öğrencinin de kız olma ihtimali nedir?\n",
        "\n",
        "**Cevap:**\n",
        "\n",
        "Seçilen ilk öğrencinin kız olma olasılığını bulmak için; kız öğrenci sayısı, toplam öğrenci sayısına bölünür:\n",
        "\n",
        "P(ilk öğrenci kız) = 6/12 = 1/2\n",
        "\n",
        "Seçilen ikinci öğrencinin de kız olma olasılığını bulurken; seçilen öğrencinin yeniden seçilemeyeceğini bilmemiz gerekiyor. Bu sebeple hem toplam öğrenci sayısı 11'e düşmüş oldu, hem de kız öğrenci sayısı 5'e düşmüş oldu. Bu sebeple ikinci seçilen öğrencinin de kız olma olasılığı:\n",
        "\n",
        "P(ikinci öğrenci kız | ilk öğrenci kız) = 5/11\n",
        "\n",
        "İlk 2 öğrencinin de kız olma olasılığı, bu iki olasılığın çarpımına eşittir:\n",
        "\n",
        "P(ilk 2 öğrenci kız) = P(ilk öğrenci kız) × P(ikinci öğrenci kız)\n",
        "= 1/2 × 5/11\n",
        "= 5/22\n",
        "= 0,2273\n",
        "\n",
        "**İki öğrencinin de kız olma ihtimali % 22,73**\n",
        "\n"
      ],
      "metadata": {
        "id": "UekMAqKKha56"
      }
    },
    {
      "cell_type": "code",
      "source": [
        "# kız ve erkek öğrenci sayıları\n",
        "kiz_sayisi= 6\n",
        "erkek_sayisi = 6\n",
        "\n",
        "# toplam öğrenci sayısı\n",
        "sinif_mevcut = kiz_sayisi+erkek_sayisi\n",
        "\n",
        "# ilk öğrencinin kız olma olasılığı\n",
        "ilk_kiz_olasiliği = kiz_sayisi / sinif_mevcut\n",
        "\n",
        "# ikinci öğrencinin de kız olma olasılığı\n",
        "ikinci_kiz_olasiliği = (kiz_sayisi - 1) / (sinif_mevcut - 1)\n",
        "\n",
        "# ilk iki öğrencinin de kız olma olasılığı\n",
        "ikisi_kız_olasiliği  = ilk_kiz_olasiliği  * ikinci_kiz_olasiliği \n",
        "\n",
        "# sonucu yazdır\n",
        "print(\"İlk iki öğrencinin de kız olma olasılığı: {:.2%}\".format(ikisi_kız_olasiliği ))\n",
        "\n",
        "\n"
      ],
      "metadata": {
        "colab": {
          "base_uri": "https://localhost:8080/"
        },
        "id": "JMjAiMrcjMNF",
        "outputId": "002bb2bb-6972-42f2-da67-04f1f0f4ae9c"
      },
      "execution_count": 9,
      "outputs": [
        {
          "output_type": "stream",
          "name": "stdout",
          "text": [
            "İlk iki öğrencinin de kız olma olasılığı: 22.73%\n"
          ]
        }
      ]
    },
    {
      "cell_type": "markdown",
      "source": [
        "**Soru 2:**\n",
        "\n",
        "Soru 1'de bulunan seçme işleminde; seçilen ilk öğrencinin erkek, sonraki öğrencinin ise kız olma ihtimali nedir? \n",
        "\n",
        "**Cevap:**\n",
        "\n",
        "Seçilen ilk öğrencinin erkek olma olasılığını bulmak için; erkek öğrenci sayısı, toplam öğrenci sayısına bölünür:\n",
        "\n",
        "P(ilk öğrenci erkek) = 6/12 = 1/2\n",
        "\n",
        "Seçilen ilk öğrencinin erkek olduğu ve seçilen öğrencinin yeniden seçilemeyeceğini bildiğimize göre. Hem toplam öğrenci sayısı 11'e düşmüş oldu, hem de erkek öğrenci sayısı 5'e düşmüş oldu. Bu bilgiler sonucunda kız öğrencinin seçilme olasılığı:\n",
        "\n",
        "P(ikinci öğrenci kız | ilk öğrenci erkek) = 6/11\n",
        "\n",
        "Bu nedenle, seçilen ilk öğrencinin erkek, sonraki öğrencinin ise kız olma ihtimali: \n",
        "\n",
        "P(ilk öğrenci erkek sonraki kız) = P(ilk öğrenci erkek) × P(ikinci öğrenci kız | ilk öğrenci erkek)\n",
        "= 1/2 × 6/11\n",
        "= 3/11\n",
        "=0,2727\n",
        "\n",
        "**İlk öğrencinin erkek sonraki öğrencinin kız olma ihtimali % 27,27**"
      ],
      "metadata": {
        "id": "rHGYlxD-kSx3"
      }
    },
    {
      "cell_type": "code",
      "source": [
        "# kız ve erkek öğrenci sayıları\n",
        "kiz_sayisi= 6\n",
        "erkek_sayisi = 6\n",
        "\n",
        "# toplam öğrenci sayısı\n",
        "sinif_mevcut = kiz_sayisi+erkek_sayisi\n",
        "\n",
        "# ilk öğrencinin erkek olma olasılığı\n",
        "ilk_erkek_olasiliği = erkek_sayisi / sinif_mevcut\n",
        "\n",
        "# ikinci öğrencinin kız olma olasılığı\n",
        "ikinci_kiz_olasiliği = (kiz_sayisi) / (sinif_mevcut - 1)\n",
        "\n",
        "# ilk öğrencinin erkek sonraki öğrencinin kız olma olasılığı\n",
        "ilkErkek_sonrakiKiz_olasiliği  = ilk_erkek_olasiliği  * ikinci_kiz_olasiliği \n",
        "\n",
        "# sonucu yazdır\n",
        "print(\"İlk öğrencinin erkek sonrakinin kız olma olasılığı: {:.2%}\".format(ilkErkek_sonrakiKiz_olasiliği))"
      ],
      "metadata": {
        "colab": {
          "base_uri": "https://localhost:8080/"
        },
        "id": "61xrmmlwmnST",
        "outputId": "f7a39a08-a7f5-4c2a-cca4-d96d323f44cc"
      },
      "execution_count": 10,
      "outputs": [
        {
          "output_type": "stream",
          "name": "stdout",
          "text": [
            "İlk öğrencinin erkek sonrakinin kız olma olasılığı: 27.27%\n"
          ]
        }
      ]
    }
  ]
}