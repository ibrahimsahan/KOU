{
  "nbformat": 4,
  "nbformat_minor": 0,
  "metadata": {
    "colab": {
      "provenance": [],
      "authorship_tag": "ABX9TyMePXb7MpDtgZFgH1hmCDIc",
      "include_colab_link": true
    },
    "kernelspec": {
      "name": "python3",
      "display_name": "Python 3"
    },
    "language_info": {
      "name": "python"
    }
  },
  "cells": [
    {
      "cell_type": "markdown",
      "metadata": {
        "id": "view-in-github",
        "colab_type": "text"
      },
      "source": [
        "<a href=\"https://colab.research.google.com/github/ibrahimsahan/KOU/blob/main/Prob1.ipynb\" target=\"_parent\"><img src=\"https://colab.research.google.com/assets/colab-badge.svg\" alt=\"Open In Colab\"/></a>"
      ]
    },
    {
      "cell_type": "markdown",
      "source": [
        " \n",
        "# Permütasyon Sorusu:\n",
        "\n",
        "6 erkek ve 6 kız öğrenciden oluşan 12 kişilik bir sınıfta K,B,O,M,U,* harflerinden oluşan pankartlar taşınacaktır. Öğrenciler, aynı cinsiyetteki öğrenciler yan yana gelmeyecek şekilde KOU*BM yazacak pankartları taşımak için kaç farklı şekilde sıralanırlar?"
      ],
      "metadata": {
        "id": "Dws0Ba_1B4kJ"
      }
    },
    {
      "cell_type": "markdown",
      "source": [
        "# Cevap\n",
        "Aslında, burada yanıltıcı olarak verilen pankartların sıralaması değil öğrencilerin sıralaması sorulmaktadır. Probleme 6 kız, 6 erkek öğrencinin bulunduğu sınıfta; 6 kişinin aynı cinsiyetteki öğrencilerin yan yana gelmeyecek şekilde seçilmesi olarak bakılabilir. \n",
        "Problem 2 farklı şekilde çözülebilmektedir.\n",
        "\n",
        "**1.Çözüm**\n",
        "\n",
        "Öncelikle 6 erkek öğrenci arasından 3 erkek öğrenci seçilmelidir.\n",
        "\n",
        "C(6,3)=\n",
        "\n",
        "Aynı şekilde 6 kız öğrenci arasından 3 kız öğrenci seçilmelidir.\n",
        "\n",
        "C(6,3)=\n",
        "\n",
        "Seçilen bu kız öğrenciler 3 sıraya farklı şekilde 3! sayıda sıralanabilirler.\n",
        "\n",
        "Aynı şekilde seçilen erkek öğrenciler 3 sıraya farklı şekilde 3! sayıda sıralanabilirler.\n",
        "\n",
        "Sıralama K,E,K,E,K,E şeklinde olabileceği gibi E,K,E,K,E,K şeklinde de olabilir. Bu sebeple 2 farklı sıralama olacaktır.\n",
        "\n",
        "Sonuç olarak 2*C(6,3)3!*C(6,3)*3!= 2x20x6x20x6=28.800 şekilde sıralama yapılabilir."
      ],
      "metadata": {
        "id": "bnCDWfkKCmuk"
      }
    },
    {
      "cell_type": "code",
      "source": [
        "#1. Çözüm kodu:\n",
        "\n",
        "import math\n",
        "\n",
        "# Erkek ve kız öğrencilerin sayısı\n",
        "num_boys = 6\n",
        "num_girls = 6\n",
        "\n",
        "# Seçilecek öğrenci sayısı\n",
        "num_students = 6\n",
        "\n",
        "# Erkek ve kız öğrenciler arasından 3'er kişi seçilmesi, 6'nın 3'lü kombinasyonu\n",
        "num_boy_choices = math.comb(num_boys, 3)\n",
        "num_girl_choices = math.comb(num_girls, 3)\n",
        "\n",
        "# Seçilen öğrencilerin farklı şekillerde sıralanması, 3!\n",
        "num_arrangements = math.factorial(3) * math.factorial(3)\n",
        "\n",
        "# Toplam sıralama sayısı\n",
        "total_arrangements = 2* num_boy_choices * num_girl_choices * num_arrangements\n",
        "\n",
        "print(\"Toplam sıralama sayısı:\", total_arrangements)\n"
      ],
      "metadata": {
        "colab": {
          "base_uri": "https://localhost:8080/"
        },
        "id": "IKR1l7QKHFch",
        "outputId": "57b4aaa2-b93c-4ca3-d79d-220816fb4401"
      },
      "execution_count": 2,
      "outputs": [
        {
          "output_type": "stream",
          "name": "stdout",
          "text": [
            "Toplam sıralama sayısı: 28800\n"
          ]
        }
      ]
    },
    {
      "cell_type": "markdown",
      "source": [
        "**2.Çözüm**"
      ],
      "metadata": {
        "id": "ngOqB4OkI_8L"
      }
    },
    {
      "cell_type": "code",
      "source": [
        "#2. Çözüm kodu:\n",
        "#1. Çözüm kodu:\n",
        "\n",
        "import math\n",
        "\n",
        "# Erkek ve kız öğrencilerin sayısı\n",
        "num_boys = 6\n",
        "num_girls = 6\n",
        "\n",
        "# 6 kız öğrenciden 3'ünün sıralaması\n",
        "girl_arrangements= math.perm(6, 3)\n",
        "\n",
        "# 6 erkek öğrenciden 3'ünün sıralaması\n",
        "boy_arrangements= math.perm(6, 3)\n",
        "\n",
        "# Toplam sıralama sayısı\n",
        "total_arrangements = 2* girl_arrangements * boy_arrangements\n",
        "\n",
        "print(\"Toplam sıralama sayısı:\", total_arrangements)\n",
        "\n"
      ],
      "metadata": {
        "colab": {
          "base_uri": "https://localhost:8080/"
        },
        "id": "R7bF_eivHvsD",
        "outputId": "78447bc4-df4f-4d3e-d2c2-e844ea927ed2"
      },
      "execution_count": 4,
      "outputs": [
        {
          "output_type": "stream",
          "name": "stdout",
          "text": [
            "Toplam sıralama sayısı: 28800\n"
          ]
        }
      ]
    }
  ]
}