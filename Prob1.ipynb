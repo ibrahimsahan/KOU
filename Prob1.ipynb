{
  "nbformat": 4,
  "nbformat_minor": 0,
  "metadata": {
    "colab": {
      "provenance": [],
      "authorship_tag": "ABX9TyM/JGPC7ETfY0X82JweAVZ8",
      "include_colab_link": true
    },
    "kernelspec": {
      "name": "python3",
      "display_name": "Python 3"
    },
    "language_info": {
      "name": "python"
    }
  },
  "cells": [
    {
      "cell_type": "markdown",
      "metadata": {
        "id": "view-in-github",
        "colab_type": "text"
      },
      "source": [
        "<a href=\"https://colab.research.google.com/github/ibrahimsahan/KOU/blob/main/Prob1.ipynb\" target=\"_parent\"><img src=\"https://colab.research.google.com/assets/colab-badge.svg\" alt=\"Open In Colab\"/></a>"
      ]
    },
    {
      "cell_type": "markdown",
      "source": [
        " \n",
        "# Permütasyon Sorusu:\n",
        "\n",
        "6 erkek ve 6 kız öğrenciden oluşan 12 kişilik bir sınıfta K,B,O,M,U,* sembol ve harflerinden oluşan pankartlar taşınacaktır. Öğrenciler, aynı cinsiyetteki öğrenciler yan yana gelmeyecek şekilde KOU*BM yazacak pankartları taşımak için kaç farklı şekilde sıralanırlar?"
      ],
      "metadata": {
        "id": "Dws0Ba_1B4kJ"
      }
    },
    {
      "cell_type": "markdown",
      "source": [
        "# Cevap\n",
        "Aslında, burada yanıltıcı olarak verilen pankartların sıralaması değil öğrencilerin sıralaması sorulmaktadır. Probleme 6 kız, 6 erkek öğrencinin bulunduğu sınıfta; 6 kişinin aynı cinsiyetteki öğrencilerin yan yana gelmeyecek şekilde seçilmesi olarak bakılabilir. \n",
        "Problem 2 farklı şekilde çözülebilmektedir.\n",
        "\n",
        "**1.Çözüm**\n",
        "\n",
        "Öncelikle 6 erkek öğrenci arasından 3 erkek öğrenci seçilmelidir.\n",
        "\n",
        "C(6,3)=20\n",
        "\n",
        "Aynı şekilde 6 kız öğrenci arasından 3 kız öğrenci seçilmelidir.\n",
        "\n",
        "C(6,3)=20\n",
        "\n",
        "Seçilen bu kız öğrenciler 3 sıraya farklı şekilde 3! sayıda sıralanabilirler.\n",
        "\n",
        "Aynı şekilde seçilen erkek öğrenciler 3 sıraya farklı şekilde 3! sayıda sıralanabilirler.\n",
        "\n",
        "Sıralama K,E,K,E,K,E şeklinde olabileceği gibi E,K,E,K,E,K şeklinde de olabilir. Bu sebeple 2 farklı sıralama olacaktır.\n",
        "\n",
        "Sonuç olarak 2*C(6,3)3!*C(6,3)*3!= 2x20x6x20x6=28.800 şekilde sıralama yapılabilir."
      ],
      "metadata": {
        "id": "bnCDWfkKCmuk"
      }
    },
    {
      "cell_type": "code",
      "source": [
        "#1. Çözüm kodu:\n",
        "\n",
        "import math\n",
        "\n",
        "# Erkek ve kız öğrencilerin sayısı\n",
        "num_boys = 6\n",
        "num_girls = 6\n",
        "\n",
        "# Seçilecek öğrenci sayısı\n",
        "num_students = 6\n",
        "\n",
        "# Erkek ve kız öğrenciler arasından 3'er kişi seçilmesi, 6'nın 3'lü kombinasyonu\n",
        "num_boy_choices = math.comb(num_boys, 3)\n",
        "num_girl_choices = math.comb(num_girls, 3)\n",
        "\n",
        "# Seçilen öğrencilerin farklı şekillerde sıralanması, 3!\n",
        "num_arrangements = math.factorial(3) * math.factorial(3)\n",
        "\n",
        "# Toplam sıralama sayısı\n",
        "total_arrangements = 2* num_boy_choices * num_girl_choices * num_arrangements\n",
        "\n",
        "print(\"Toplam sıralama sayısı:\", total_arrangements)\n"
      ],
      "metadata": {
        "colab": {
          "base_uri": "https://localhost:8080/"
        },
        "id": "IKR1l7QKHFch",
        "outputId": "57b4aaa2-b93c-4ca3-d79d-220816fb4401"
      },
      "execution_count": 2,
      "outputs": [
        {
          "output_type": "stream",
          "name": "stdout",
          "text": [
            "Toplam sıralama sayısı: 28800\n"
          ]
        }
      ]
    },
    {
      "cell_type": "markdown",
      "source": [
        "**2.Çözüm**\n",
        "\n",
        "1.Çözümde bahsedildiği gibi sıralama K,E,K,E,K,E şeklinde olabileceği gibi E,K,E,K,E,K şeklinde de olabilir. Bu sebeple 2 farklı sıralama olacaktır.\n",
        "\n",
        "Belirlenmiş bu dizilimlerde 6 kız öğrenci 3 sıraya P(6,3) sayıda dizilebilir. \n",
        "(İlk sıraya 6 kız, sonraki sıraya 5 kız, sonraki sıraya 4 kız seçilebilmektedir)\n",
        "P(6,3)=120\n",
        "\n",
        "Belirlenmiş bu dizilimlerde 6 erkek öğrenci 3 sıraya P(6,3) sayıda dizilebilir. \n",
        "(İlk sıraya 6 erkek, sonraki sıraya 5 erkek, sonraki sıraya 4 erkek seçilebilmektedir)\n",
        "\n",
        "P(6,3)=120\n",
        "\n",
        "Sonuç olarak 2*P(6,3)*P(6,3)= 2x120x120=28.800 şekilde sıralama yapılabilir."
      ],
      "metadata": {
        "id": "ngOqB4OkI_8L"
      }
    },
    {
      "cell_type": "code",
      "source": [
        "#2. Çözüm kodu:\n",
        "#1. Çözüm kodu:\n",
        "\n",
        "import math\n",
        "\n",
        "# Erkek ve kız öğrencilerin sayısı\n",
        "num_boys = 6\n",
        "num_girls = 6\n",
        "\n",
        "# 6 kız öğrenciden 3'ünün sıralaması\n",
        "girl_arrangements= math.perm(6, 3)\n",
        "\n",
        "# 6 erkek öğrenciden 3'ünün sıralaması\n",
        "boy_arrangements= math.perm(6, 3)\n",
        "\n",
        "# Toplam sıralama sayısı\n",
        "total_arrangements = 2* girl_arrangements * boy_arrangements\n",
        "\n",
        "print(\"Toplam sıralama sayısı:\", total_arrangements)\n",
        "\n"
      ],
      "metadata": {
        "colab": {
          "base_uri": "https://localhost:8080/"
        },
        "id": "R7bF_eivHvsD",
        "outputId": "78447bc4-df4f-4d3e-d2c2-e844ea927ed2"
      },
      "execution_count": 4,
      "outputs": [
        {
          "output_type": "stream",
          "name": "stdout",
          "text": [
            "Toplam sıralama sayısı: 28800\n"
          ]
        }
      ]
    },
    {
      "cell_type": "markdown",
      "source": [
        "# Kombinasyon Sorusu:\n",
        "\n",
        "1.soruda seçilmeyen öğrencilerden 2 kişi bayrak tutmakmak için seçilecektir. Bu 2 öğrencinin de erkek olması istenmektedir. Kaç farklı şekilde seçim yapılabilir?\n",
        "\n",
        "# Cevap\n",
        "Daha önce 3 erkek ve 3 kız öğrenci seçilmişti, geriye 3 erkek ve 3 kız öğrenci kalmıştı. Bu 6 öğrenciden 2 kişinin seçilmesi ve bu 2 kişinin de erkek olması istenmektedir. Kız öğrenciler burda yanıltıcı olarak eklenmiştir. Seçim yalnızca erkek öğrenciler arasında olacaktır.\n",
        "\n",
        "3  erkek öğrenci arasından 2 erkek öğrenci C(3,2) sayıda farklı şekilde seçilebilir. \n",
        "\n",
        "C(3,2)=3\n",
        "\n",
        "Burda dikkat edilmesi gereken en önemli şey daha önce seçim yapılma durumunun da hesaba katılmasıdır.\n",
        "\n",
        "Daha önce 6 erkek arasından 3 erkek seçilmişti. Bu da C(6,3) sayıda farklı şekilde seçilebilir.\n",
        "\n",
        "C(6,3)=20\n",
        "\n",
        "Sonuç olarak C(3,2)*C(6,3)=3x20=60 şekilde sıralama yapılabilir.\n"
      ],
      "metadata": {
        "id": "S-a2SJydRz2l"
      }
    },
    {
      "cell_type": "code",
      "source": [
        "#Çözüm\n",
        "\n",
        "import math\n",
        "\n",
        "# Erkeklerin sayısı\n",
        "num_boys=6\n",
        "\n",
        "# 3 erkeğin daha önce seçilmesi\n",
        "num_boy_choices = math.comb(num_boys, 3)\n",
        "\n",
        "\n",
        "# Seçilmeyen erkek öğrencilerin arasından 2 erkeğin seçilmesi\n",
        "num_boy_choices2 = math.comb(num_boys-3, 2)\n",
        "\n",
        "# Toplam seçilme sayısı\n",
        "total_arrangements = num_boy_choices * num_boy_choices2\n",
        "\n",
        "print(\"Toplam seçilme sayısı:\", total_arrangements)"
      ],
      "metadata": {
        "colab": {
          "base_uri": "https://localhost:8080/"
        },
        "id": "rNA5b3ALT3YO",
        "outputId": "d41ea9d3-7191-4ff8-c89c-424628d698e1"
      },
      "execution_count": 5,
      "outputs": [
        {
          "output_type": "stream",
          "name": "stdout",
          "text": [
            "Toplam seçilme sayısı: 60\n"
          ]
        }
      ]
    }
  ]
}