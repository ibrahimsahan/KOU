{
  "nbformat": 4,
  "nbformat_minor": 0,
  "metadata": {
    "colab": {
      "provenance": [],
      "authorship_tag": "ABX9TyMHGPCZkB/Z2Fsqi9P9LrO3",
      "include_colab_link": true
    },
    "kernelspec": {
      "name": "python3",
      "display_name": "Python 3"
    },
    "language_info": {
      "name": "python"
    }
  },
  "cells": [
    {
      "cell_type": "markdown",
      "metadata": {
        "id": "view-in-github",
        "colab_type": "text"
      },
      "source": [
        "<a href=\"https://colab.research.google.com/github/ibrahimsahan/KOU/blob/main/Prob2.ipynb\" target=\"_parent\"><img src=\"https://colab.research.google.com/assets/colab-badge.svg\" alt=\"Open In Colab\"/></a>"
      ]
    },
    {
      "cell_type": "markdown",
      "source": [
        "# **Temel Olasılık Soruları**\n",
        "\n",
        "# Soru 1:\n",
        "\n",
        "Ahmet'in de arasında bulunduğu 5 kişilik bir grupta 3 kişi vejeteryandır. 5 sandviç sipariş edilmiştir. Ancak yalnızca 2 vejeteryan sandviç gelmiştir. Ahmetin aç kalma ihtimali nedir?\n",
        "\n",
        "# Cevap:\n",
        "\n",
        "Grupta 5 kişi vardır ve 3 kişi vejeteryandır. Ahmet aç kalacaksa vejeteryan olduğu düşünülebilir. Dolayısıyla, Ahmet'in vejeteryan olma olasılığı:\n",
        "\n",
        "P(Ahmet vejeteryan) = **3/5**'tir.\n",
        "\n",
        "5 sandviç sipariş edilmiştir ve sadece 2 tanesi vejeteryan sandviç gelmiştir. Ahmet'in etli sandviç seme olasılığı:\n",
        "P(Ahmet etli sandviç seçer) = **3/5**'tir.\n",
        "\n",
        "Sonuç olarak, Ahmet vejeteryansa ve etli bir sandviç seçerse, aç kalacaktır. Ahmetin aç kalma olasılığı:\n",
        "\n",
        "P(Ahmet aç kalır) = P(Ahmet vejeteryan) x P(Ahmet etli sandviç seçer)\n",
        "P(Ahmet aç kalır) = (3/5) x (3/5) = 9/25 = 0.36, yani **%36**'dır.\n"
      ],
      "metadata": {
        "id": "_i8M_P_MHxGC"
      }
    },
    {
      "cell_type": "code",
      "source": [
        "#Çözüm:\n",
        "\n",
        "# Grupta 5 kişi var, 3 kişi vejeteryan\n",
        "grup_sayisi = 5\n",
        "vejeteryan_sayisi = 3\n",
        "\n",
        "# Ahmet'in vejeteryan olma olasılığı\n",
        "ahmet_vejeteryan = vejeteryan_sayisi / grup_sayisi\n",
        "\n",
        "# 5 sandviç sipariş edildi, 2 tanesi vejeteryan\n",
        "sandvic_sayisi = 5\n",
        "vejeteryan_sandvic_sayisi = 2\n",
        "\n",
        "# Ahmet'in etli bir sandviç seçme olasılığı\n",
        "etli_sandvic_olasiligi = (sandvic_sayisi-vejeteryan_sandvic_sayisi) / sandvic_sayisi\n",
        "\n",
        "# Ahmet'in aç kalma olasılığı\n",
        "ahmet_ac_kalma_olasiligi = ahmet_vejeteryan * etli_sandvic_olasiligi\n",
        "\n",
        "print(\"Ahmet'in aç kalma olasılığı: {:.2%}\".format(ahmet_ac_kalma_olasiligi))\n"
      ],
      "metadata": {
        "colab": {
          "base_uri": "https://localhost:8080/"
        },
        "id": "tpmq6-htK579",
        "outputId": "cfd9fea7-0974-49c4-db39-3c9a4d4be76b"
      },
      "execution_count": 4,
      "outputs": [
        {
          "output_type": "stream",
          "name": "stdout",
          "text": [
            "Ahmet'in aç kalma olasılığı: 36.00%\n"
          ]
        }
      ]
    },
    {
      "cell_type": "markdown",
      "source": [
        "# Soru 2:\n",
        "Bir partiye 10 kişi davetlidir ve davetlilerin her biri birer hediye getirecektir. Davetlilerin 6'sı çikolata, 3'ü çiçek getirecek ve 1'i de hiçbir hediye getirmeyecektir. Partideki hediyeler rastgele dağıtıldığında, çikolata getiren bir kişiye çiçek gelme olasılığı nedir?\n",
        "\n",
        "# Cevap:\n",
        "\n",
        "Bir kişinin çikolata getiren kişi olma olasılığı, çikolata getiren kişi sayısının toplam davetli sayısına bölünmesi ile bulunur:\n",
        "P(Çikolata getiren) = Çikolata getirenler / Toplam davetli sayısı\n",
        "\n",
        "P(Çikolata getiren) = 6 / 10 = 0.6 veya **%60**'tır.\n",
        "\n",
        "Bir kişiye çiçek gelme olasılığı:\n",
        "P(çiçek gelme) = (Çiçek getirenlerin sayısı) / (Toplam hediyelerin sayısı)\n",
        "\n",
        "P(çiçek gelme) = 3 / 9 = 0.33 veya **%33**'tür.\n",
        "\n",
        "\n",
        "Çikolata getiren bir kişiye çiçek gelme olasılığı ise:\n",
        "\n",
        "P(Çikolata getiren kişiye çiçek gelme) = P(Çikolata getiren) * P(çiçek gelme) \n",
        "\n",
        "P(Çikolata getiren kişiye çiçek gelme) = 0.6 * 0.33 = 0.2 veya %20\n",
        "\n",
        "Sonuç olarak, çikolata getiren bir kişiye çiçek gelme olasılığı **%20**'dir."
      ],
      "metadata": {
        "id": "p_XlxY8CL_UU"
      }
    },
    {
      "cell_type": "code",
      "source": [
        "#Çözüm:\n",
        "\n",
        "# Davetli sayısı\n",
        "toplam_davetli = 10\n",
        "\n",
        "# Çikolata getiren kişilerin sayısı\n",
        "cikolata_getirenler = 6\n",
        "\n",
        "# Çiçek getiren kişilerin sayısı\n",
        "cicek_getirenler = 3\n",
        "\n",
        "# Çikolata gelme olasılığı\n",
        "cikolata_olasiligi = cikolata_getirenler / toplam_davetli\n",
        "\n",
        "# Çikolata getiren bir kişiye çiçek gelme olasılığı\n",
        "cikolata_getiren_kisiye_cicek_gelme_olasiligi = (cikolata_olasiligi) * (cicek_getirenler / (toplam_davetli - 1))\n",
        "\n",
        "print(\"Çikolata getiren bir kişiye çiçek gelme olasılığı: {:.2%}\".format(cikolata_getiren_kisiye_cicek_gelme_olasiligi))\n"
      ],
      "metadata": {
        "colab": {
          "base_uri": "https://localhost:8080/"
        },
        "id": "vktBr6qoQTBf",
        "outputId": "19ece60c-6658-4db5-9cf8-5a9cbcc696da"
      },
      "execution_count": 6,
      "outputs": [
        {
          "output_type": "stream",
          "name": "stdout",
          "text": [
            "Çikolata getiren bir kişiye çiçek gelme olasılığı: 20.00%\n"
          ]
        }
      ]
    }
  ]
}